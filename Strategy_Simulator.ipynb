{
  "nbformat": 4,
  "nbformat_minor": 0,
  "metadata": {
    "colab": {
      "provenance": [],
      "mount_file_id": "15waauJhfGxSAAxeoeJ--JnBYECK2hy05",
      "authorship_tag": "ABX9TyMhlhSI1mRuDk/TvOW+nQim",
      "include_colab_link": true
    },
    "kernelspec": {
      "name": "python3",
      "display_name": "Python 3"
    },
    "language_info": {
      "name": "python"
    }
  },
  "cells": [
    {
      "cell_type": "markdown",
      "metadata": {
        "id": "view-in-github",
        "colab_type": "text"
      },
      "source": [
        "<a href=\"https://colab.research.google.com/github/kilos11/Data_Science/blob/main/Strategy_Simulator.ipynb\" target=\"_parent\"><img src=\"https://colab.research.google.com/assets/colab-badge.svg\" alt=\"Open In Colab\"/></a>"
      ]
    },
    {
      "cell_type": "code",
      "source": [
        "\n",
        "import random\n",
        "\n",
        "strategies = {\n",
        "    'S': 'Social Media Advertising',\n",
        "    'W': 'Email Marketing',\n",
        "    'G': 'Influencer Partnerships'\n",
        "}\n",
        "\n",
        "def simulate_strategy_outcomes(strategy):\n",
        "    com_choices = ['S', 'W', 'G']\n",
        "    outcomes = {'wins': 0, 'losses': 0, 'draws': 0}\n",
        "\n",
        "    for _ in range(1000):  # Simulate 1000 rounds\n",
        "        com_choice = random.choice(com_choices)\n",
        "        if (\n",
        "            (strategy == 'S' and com_choice == 'W') or\n",
        "            (strategy == 'W' and com_choice == 'G') or\n",
        "            (strategy == 'G' and com_choice == 'S')\n",
        "        ):\n",
        "            outcomes['wins'] += 1\n",
        "        elif strategy == com_choice:\n",
        "            outcomes['draws'] += 1\n",
        "        else:\n",
        "            outcomes['losses'] += 1\n",
        "\n",
        "    return outcomes\n",
        "\n",
        "print('Welcome to the Strategy Decision-Making Simulation!\\n')\n",
        "print('Choose a strategy to simulate its outcomes:')\n",
        "for key, value in strategies.items():\n",
        "    print(f'Choose {key} for {value}')\n",
        "\n",
        "user_choice = input('\\n----->').upper()\n",
        "\n",
        "if user_choice in strategies:\n",
        "    strategy = user_choice\n",
        "    outcomes = simulate_strategy_outcomes(strategy)\n",
        "\n",
        "    print('\\nSimulation Results:')\n",
        "    print(f'Strategy: {strategies[strategy]}')\n",
        "    print(f'Wins: {outcomes[\"wins\"]}')\n",
        "    print(f'Losses: {outcomes[\"losses\"]}')\n",
        "    print(f'Draws: {outcomes[\"draws\"]}')\n",
        "else:\n",
        "    print('Invalid choice! Please try again.')"
      ],
      "metadata": {
        "colab": {
          "base_uri": "https://localhost:8080/"
        },
        "id": "m39PexuxShWq",
        "outputId": "5ea5e4cb-0be8-4ba4-ddaa-5596b11f020e"
      },
      "execution_count": 10,
      "outputs": [
        {
          "output_type": "stream",
          "name": "stdout",
          "text": [
            "Welcome to the Strategy Decision-Making Simulation!\n",
            "\n",
            "Choose a strategy to simulate its outcomes:\n",
            "Choose S for Social Media Advertising\n",
            "Choose W for Email Marketing\n",
            "Choose G for Influencer Partnerships\n",
            "\n",
            "----->G\n",
            "\n",
            "Simulation Results:\n",
            "Strategy: Influencer Partnerships\n",
            "Wins: 317\n",
            "Losses: 335\n",
            "Draws: 348\n"
          ]
        }
      ]
    }
  ]
}