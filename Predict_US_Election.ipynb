{
  "nbformat": 4,
  "nbformat_minor": 0,
  "metadata": {
    "colab": {
      "provenance": [],
      "authorship_tag": "ABX9TyMJ8hJ0vjO69aQRM8eXtHBr",
      "include_colab_link": true
    },
    "kernelspec": {
      "name": "python3",
      "display_name": "Python 3"
    },
    "language_info": {
      "name": "python"
    }
  },
  "cells": [
    {
      "cell_type": "markdown",
      "metadata": {
        "id": "view-in-github",
        "colab_type": "text"
      },
      "source": [
        "<a href=\"https://colab.research.google.com/github/kilos11/Data_Science/blob/main/Predict_US_Election.ipynb\" target=\"_parent\"><img src=\"https://colab.research.google.com/assets/colab-badge.svg\" alt=\"Open In Colab\"/></a>"
      ]
    },
    {
      "cell_type": "code",
      "execution_count": 4,
      "metadata": {
        "id": "zD--GgEtgvqJ"
      },
      "outputs": [],
      "source": [
        "\n",
        "import pandas as pd\n",
        "import numpy as np\n",
        "from textblob import TextBlob\n",
        "import plotly.graph_objects as go\n",
        "import plotly.express as px"
      ]
    },
    {
      "cell_type": "markdown",
      "source": [
        "IMPORT DATASETS."
      ],
      "metadata": {
        "id": "_iunafC7sa8U"
      }
    },
    {
      "cell_type": "code",
      "source": [
        "trump = pd.read_csv(\"/content/drive/MyDrive/DS_and_ML_projects-master/Predict US Elections/Trumpall2.csv\")\n",
        "biden = pd.read_csv(\"/content/drive/MyDrive/DS_and_ML_projects-master/Predict US Elections/Bidenall2.csv\")\n",
        "\n",
        "print(trump.head())\n",
        "print(biden.head())"
      ],
      "metadata": {
        "colab": {
          "base_uri": "https://localhost:8080/"
        },
        "id": "zHkAZ-fnsS-B",
        "outputId": "9ee51aa0-a8fb-40bd-8b9c-65d590ac3195"
      },
      "execution_count": 5,
      "outputs": [
        {
          "output_type": "stream",
          "name": "stdout",
          "text": [
            "              user                                               text\n",
            "0      manny_rosen   @sanofi please tell us how many shares the Cr...\n",
            "1        osi_abdul   https://t.co/atM98CpqF7  Like, comment, RT #P...\n",
            "2          Patsyrw   Your AG Barr is as useless &amp; corrupt as y...\n",
            "3  seyedebrahimi_m   Mr. Trump! Wake Up!  Most of the comments bel...\n",
            "4    James09254677   After 4 years you think you would have figure...\n",
            "           user                                               text\n",
            "0   MarkHodder3    @JoeBiden And we’ll find out who won in 2026...\n",
            "1    K87327961G  @JoeBiden Your Democratic Nazi Party cannot be...\n",
            "2      OldlaceA                        @JoeBiden So did Lying Barr\n",
            "3    penblogger  @JoeBiden It's clear you didnt compose this tw...\n",
            "4  Aquarian0264         @JoeBiden I will vote in person thank you.\n"
          ]
        }
      ]
    },
    {
      "cell_type": "code",
      "source": [
        "\n",
        "# Create a TextBlob object for the 10th tweet in the 'trump' DataFrame\n",
        "textblob1 = TextBlob(trump[\"text\"][10])\n",
        "\n",
        "# Print the sentiment analysis result for Trump's tweet\n",
        "print(\"Trump:\", textblob1.sentiment)\n",
        "\n",
        "# Create a TextBlob object for the 500th tweet in the 'biden' DataFrame\n",
        "textblob2 = TextBlob(biden[\"text\"][500])\n",
        "\n",
        "# Print the sentiment analysis result for Biden's tweet\n",
        "print(\"Biden:\", textblob2.sentiment)"
      ],
      "metadata": {
        "colab": {
          "base_uri": "https://localhost:8080/"
        },
        "id": "jI4QpF_Hwja6",
        "outputId": "43afdc75-52dc-4c39-cc9c-323202696dd4"
      },
      "execution_count": 6,
      "outputs": [
        {
          "output_type": "stream",
          "name": "stdout",
          "text": [
            "Trump: Sentiment(polarity=0.15, subjectivity=0.3125)\n",
            "Biden: Sentiment(polarity=0.6, subjectivity=0.9)\n"
          ]
        }
      ]
    },
    {
      "cell_type": "code",
      "source": [
        "\n",
        "# Define a function to calculate the sentiment polarity of a given review\n",
        "def find_pol(review):\n",
        "    return TextBlob(review).sentiment.polarity\n",
        "\n",
        "# Apply the sentiment polarity function to the 'text' column of the 'trump' DataFrame,\n",
        "# and assign the results to a new column called 'Sentiment Polarity'\n",
        "trump[\"Sentiment Polarity\"] = trump[\"text\"].apply(find_pol)\n",
        "\n",
        "# Print the tail (last few rows) of the 'trump' DataFrame to see the updated column\n",
        "print(trump.tail())\n",
        "\n",
        "# Apply the sentiment polarity function to the 'text' column of the 'biden' DataFrame,\n",
        "# and assign the results to a new column called 'Sentiment Polarity'\n",
        "biden[\"Sentiment Polarity\"] = biden[\"text\"].apply(find_pol)\n",
        "\n",
        "# Print the tail (last few rows) of the 'biden' DataFrame to see the updated column\n",
        "print(biden.tail())"
      ],
      "metadata": {
        "colab": {
          "base_uri": "https://localhost:8080/"
        },
        "id": "5OUev3yswwfB",
        "outputId": "b7f21216-5b65-4772-d897-8543df56b0e4"
      },
      "execution_count": 7,
      "outputs": [
        {
          "output_type": "stream",
          "name": "stdout",
          "text": [
            "                 user                                               text  \\\n",
            "2783          4diva63  @realDonaldTrump For the 1/100 time, absentee ...   \n",
            "2784         hidge826  @realDonaldTrump If you’re so scared of losing...   \n",
            "2785     SpencerRossy  @realDonaldTrump I rarely get involved with fo...   \n",
            "2786  ScoobyMcpherson  @realDonaldTrump This is the moment when Trump...   \n",
            "2787          bjklinz     @realDonaldTrump I’m sorry, Donald. No. #POTUS   \n",
            "\n",
            "      Sentiment Polarity  \n",
            "2783               0.000  \n",
            "2784               0.000  \n",
            "2785               0.225  \n",
            "2786               0.000  \n",
            "2787              -0.500  \n",
            "             user                                               text  \\\n",
            "2535    meryn1977  @JoeBiden You'll just try to calm those waters...   \n",
            "2536  BSNelson114  @JoeBiden 96 days 96 dias #VoteJoeBiden2020  #...   \n",
            "2537     KenCapel  @JoeBiden YOU THINK YOU CAN DO THAT??? YOU CAN...   \n",
            "2538   LeslyeHale  @JoeBiden Trump wants our children back at sch...   \n",
            "2539     rerickre  @JoeBiden ... and I know, because it’s much co...   \n",
            "\n",
            "      Sentiment Polarity  \n",
            "2535                0.15  \n",
            "2536                0.00  \n",
            "2537                0.00  \n",
            "2538                0.10  \n",
            "2539                0.20  \n"
          ]
        }
      ]
    },
    {
      "cell_type": "code",
      "source": [
        "\n",
        "# Add an \"Expression Label\" column to the 'trump' DataFrame based on the sentiment polarity values\n",
        "# If the sentiment polarity is greater than 0, set the label as \"positive\", otherwise set it as \"negative\"\n",
        "trump[\"Expression Label\"] = np.where(trump[\"Sentiment Polarity\"] > 0, \"positive\", \"negative\")\n",
        "\n",
        "# For the rows where the sentiment polarity is exactly 0, set the label as \"Neutral\"\n",
        "trump[\"Expression Label\"][trump[\"Sentiment Polarity\"] == 0] = \"Neutral\"\n",
        "\n",
        "# Print the tail (last few rows) of the 'trump' DataFrame to see the updated \"Expression Label\" column\n",
        "print(trump.tail())\n",
        "\n",
        "# Add an \"Expression Label\" column to the 'biden' DataFrame based on the sentiment polarity values\n",
        "# If the sentiment polarity is greater than 0, set the label as \"positive\", otherwise set it as \"negative\"\n",
        "biden[\"Expression Label\"] = np.where(biden[\"Sentiment Polarity\"] > 0, \"positive\", \"negative\")\n",
        "\n",
        "# For the rows where the sentiment polarity is exactly 0, set the label as \"Neutral\"\n",
        "biden[\"Expression Label\"][trump[\"Sentiment Polarity\"] == 0] = \"Neutral\"\n",
        "\n",
        "# Print the tail (last few rows) of the 'biden' DataFrame to see the updated \"Expression Label\" column\n",
        "print(biden.tail())"
      ],
      "metadata": {
        "colab": {
          "base_uri": "https://localhost:8080/"
        },
        "id": "wOqLEw6NxAC7",
        "outputId": "ef81d4e9-ec62-4f12-f06a-a435a7d1442c"
      },
      "execution_count": 8,
      "outputs": [
        {
          "output_type": "stream",
          "name": "stdout",
          "text": [
            "                 user                                               text  \\\n",
            "2783          4diva63  @realDonaldTrump For the 1/100 time, absentee ...   \n",
            "2784         hidge826  @realDonaldTrump If you’re so scared of losing...   \n",
            "2785     SpencerRossy  @realDonaldTrump I rarely get involved with fo...   \n",
            "2786  ScoobyMcpherson  @realDonaldTrump This is the moment when Trump...   \n",
            "2787          bjklinz     @realDonaldTrump I’m sorry, Donald. No. #POTUS   \n",
            "\n",
            "      Sentiment Polarity Expression Label  \n",
            "2783               0.000          Neutral  \n",
            "2784               0.000          Neutral  \n",
            "2785               0.225         positive  \n",
            "2786               0.000          Neutral  \n",
            "2787              -0.500         negative  \n",
            "             user                                               text  \\\n",
            "2535    meryn1977  @JoeBiden You'll just try to calm those waters...   \n",
            "2536  BSNelson114  @JoeBiden 96 days 96 dias #VoteJoeBiden2020  #...   \n",
            "2537     KenCapel  @JoeBiden YOU THINK YOU CAN DO THAT??? YOU CAN...   \n",
            "2538   LeslyeHale  @JoeBiden Trump wants our children back at sch...   \n",
            "2539     rerickre  @JoeBiden ... and I know, because it’s much co...   \n",
            "\n",
            "      Sentiment Polarity Expression Label  \n",
            "2535                0.15          Neutral  \n",
            "2536                0.00          Neutral  \n",
            "2537                0.00         negative  \n",
            "2538                0.10          Neutral  \n",
            "2539                0.20         positive  \n"
          ]
        },
        {
          "output_type": "stream",
          "name": "stderr",
          "text": [
            "<ipython-input-8-503a844b4d89>:6: SettingWithCopyWarning:\n",
            "\n",
            "\n",
            "A value is trying to be set on a copy of a slice from a DataFrame\n",
            "\n",
            "See the caveats in the documentation: https://pandas.pydata.org/pandas-docs/stable/user_guide/indexing.html#returning-a-view-versus-a-copy\n",
            "\n",
            "<ipython-input-8-503a844b4d89>:16: SettingWithCopyWarning:\n",
            "\n",
            "\n",
            "A value is trying to be set on a copy of a slice from a DataFrame\n",
            "\n",
            "See the caveats in the documentation: https://pandas.pydata.org/pandas-docs/stable/user_guide/indexing.html#returning-a-view-versus-a-copy\n",
            "\n"
          ]
        }
      ]
    },
    {
      "cell_type": "code",
      "source": [
        "\n",
        "# Filter the 'trump' DataFrame to select rows where the sentiment polarity is exactly 0.0000\n",
        "reviews1 = trump[trump['Sentiment Polarity'] == 0.0000]\n",
        "\n",
        "# Print the shape (number of rows and columns) of the filtered DataFrame\n",
        "print(reviews1.shape)\n",
        "\n",
        "# Create a condition to check if the sentiment polarity values in 'trump' DataFrame are present in the 'reviews1' DataFrame\n",
        "cond1 = trump['Sentiment Polarity'].isin(reviews1['Sentiment Polarity'])\n",
        "\n",
        "# Drop the rows that satisfy the condition from the 'trump' DataFrame\n",
        "trump.drop(trump[cond1].index, inplace=True)\n",
        "\n",
        "# Print the shape of the 'trump' DataFrame after dropping the rows\n",
        "print(trump.shape)\n",
        "\n",
        "# Filter the 'biden' DataFrame to select rows where the sentiment polarity is exactly 0.0000\n",
        "reviews2 = biden[biden['Sentiment Polarity'] == 0.0000]\n",
        "\n",
        "# Print the shape of the filtered DataFrame\n",
        "print(reviews2.shape)\n",
        "\n",
        "# Create a condition to check if the sentiment polarity values in 'biden' DataFrame are present in the 'reviews1' DataFrame\n",
        "cond2 = biden['Sentiment Polarity'].isin(reviews1['Sentiment Polarity'])\n",
        "\n",
        "# Drop the rows that satisfy the condition from the 'biden' DataFrame\n",
        "biden.drop(biden[cond2].index, inplace=True)\n",
        "\n",
        "# Print the shape of the 'biden' DataFrame after dropping the rows\n",
        "print(biden.shape)"
      ],
      "metadata": {
        "colab": {
          "base_uri": "https://localhost:8080/"
        },
        "id": "yJf3ueidxGqk",
        "outputId": "fd8df7bb-cb48-496c-8bcf-0b0aca176fea"
      },
      "execution_count": 9,
      "outputs": [
        {
          "output_type": "stream",
          "name": "stdout",
          "text": [
            "(1464, 4)\n",
            "(1324, 4)\n",
            "(1509, 4)\n",
            "(1031, 4)\n"
          ]
        }
      ]
    },
    {
      "cell_type": "code",
      "source": [
        "\n",
        "# Randomly sample and remove 324 rows from the 'trump' DataFrame\n",
        "np.random.seed(10)  # Set the random seed for reproducibility\n",
        "remove_n = 324  # Number of rows to remove\n",
        "drop_indices = np.random.choice(trump.index, remove_n, replace=False)  # Randomly select indices to drop\n",
        "df_subset_trump = trump.drop(drop_indices)  # Create a new DataFrame by dropping the selected indices\n",
        "print(df_subset_trump.shape)  # Print the shape of the new DataFrame\n",
        "\n",
        "# Randomly sample and remove 31 rows from the 'biden' DataFrame\n",
        "np.random.seed(10)  # Set the random seed for reproducibility\n",
        "remove_n = 31  # Number of rows to remove\n",
        "drop_indices = np.random.choice(biden.index, remove_n, replace=False)  # Randomly select indices to drop\n",
        "df_subset_biden = biden.drop(drop_indices)  # Create a new DataFrame by dropping the selected indices\n",
        "print(df_subset_biden.shape)  # Print the shape of the new DataFrame"
      ],
      "metadata": {
        "colab": {
          "base_uri": "https://localhost:8080/"
        },
        "id": "K1xBZYByxPqQ",
        "outputId": "42bc09c3-1f6f-40d0-b979-39387a1c2470"
      },
      "execution_count": 10,
      "outputs": [
        {
          "output_type": "stream",
          "name": "stdout",
          "text": [
            "(1000, 4)\n",
            "(1000, 4)\n"
          ]
        }
      ]
    },
    {
      "cell_type": "code",
      "source": [
        "\n",
        "# Group the 'df_subset_trump' DataFrame by 'Expression Label' and count the occurrences\n",
        "count_1 = df_subset_trump.groupby('Expression Label').count()\n",
        "print(count_1)  # Print the count DataFrame\n",
        "\n",
        "# Calculate the percentage of negative and positive sentiments for 'df_subset_trump'\n",
        "negative_per1 = (count_1['Sentiment Polarity'][0] / 1000) * 10\n",
        "positive_per1 = (count_1['Sentiment Polarity'][1] / 1000) * 100\n",
        "\n",
        "# Group the 'df_subset_biden' DataFrame by 'Expression Label' and count the occurrences\n",
        "count_2 = df_subset_biden.groupby('Expression Label').count()\n",
        "print(count_2)  # Print the count DataFrame\n",
        "\n",
        "# Calculate the percentage of negative and positive sentiments for 'df_subset_biden'\n",
        "negative_per2 = (count_2['Sentiment Polarity'][0] / 1000) * 100\n",
        "positive_per2 = (count_2['Sentiment Polarity'][1] / 1000) * 100\n",
        "\n",
        "# Create a list of politicians' names and their corresponding positive percentages\n",
        "Politicians = ['Joe Biden', 'Donald Trump']\n",
        "lis_pos = [positive_per1, positive_per2]\n",
        "\n",
        "# Create a list of politicians' names and their corresponding negative percentages\n",
        "lis_neg = [negative_per1, negative_per2]"
      ],
      "metadata": {
        "colab": {
          "base_uri": "https://localhost:8080/"
        },
        "id": "6tu2wLRcxYaw",
        "outputId": "7e784258-f869-4a55-90ee-e693f75f7728"
      },
      "execution_count": 11,
      "outputs": [
        {
          "output_type": "stream",
          "name": "stdout",
          "text": [
            "                  user  text  Sentiment Polarity\n",
            "Expression Label                                \n",
            "negative           449   449                 449\n",
            "positive           551   551                 551\n",
            "                  user  text  Sentiment Polarity\n",
            "Expression Label                                \n",
            "Neutral            524   524                 524\n",
            "negative           181   181                 181\n",
            "positive           295   295                 295\n"
          ]
        }
      ]
    },
    {
      "cell_type": "code",
      "source": [
        "\n",
        "import plotly.graph_objects as go\n",
        "\n",
        "# Create a figure object and define the data as two bar charts\n",
        "fig = go.Figure(data=[\n",
        "    go.Bar(name='Positive', x=Politicians, y=lis_pos),\n",
        "    go.Bar(name='Negative', x=Politicians, y=lis_neg)\n",
        "])\n",
        "\n",
        "# Change the bar mode to 'group' to display the bars side by side\n",
        "fig.update_layout(barmode='group')\n",
        "\n",
        "# Show the figure\n",
        "fig.show()"
      ],
      "metadata": {
        "colab": {
          "base_uri": "https://localhost:8080/",
          "height": 542
        },
        "id": "wMoSq_L6xgPx",
        "outputId": "c6c5b312-8349-477a-d1a4-3df76671adaa"
      },
      "execution_count": 13,
      "outputs": [
        {
          "output_type": "display_data",
          "data": {
            "text/html": [
              "<html>\n",
              "<head><meta charset=\"utf-8\" /></head>\n",
              "<body>\n",
              "    <div>            <script src=\"https://cdnjs.cloudflare.com/ajax/libs/mathjax/2.7.5/MathJax.js?config=TeX-AMS-MML_SVG\"></script><script type=\"text/javascript\">if (window.MathJax && window.MathJax.Hub && window.MathJax.Hub.Config) {window.MathJax.Hub.Config({SVG: {font: \"STIX-Web\"}});}</script>                <script type=\"text/javascript\">window.PlotlyConfig = {MathJaxConfig: 'local'};</script>\n",
              "        <script charset=\"utf-8\" src=\"https://cdn.plot.ly/plotly-2.24.1.min.js\"></script>                <div id=\"2eb74828-c0df-469f-abe0-0517b5640551\" class=\"plotly-graph-div\" style=\"height:525px; width:100%;\"></div>            <script type=\"text/javascript\">                                    window.PLOTLYENV=window.PLOTLYENV || {};                                    if (document.getElementById(\"2eb74828-c0df-469f-abe0-0517b5640551\")) {                    Plotly.newPlot(                        \"2eb74828-c0df-469f-abe0-0517b5640551\",                        [{\"name\":\"Positive\",\"x\":[\"Joe Biden\",\"Donald Trump\"],\"y\":[55.1,18.099999999999998],\"type\":\"bar\"},{\"name\":\"Negative\",\"x\":[\"Joe Biden\",\"Donald Trump\"],\"y\":[4.49,52.400000000000006],\"type\":\"bar\"}],                        {\"template\":{\"data\":{\"histogram2dcontour\":[{\"type\":\"histogram2dcontour\",\"colorbar\":{\"outlinewidth\":0,\"ticks\":\"\"},\"colorscale\":[[0.0,\"#0d0887\"],[0.1111111111111111,\"#46039f\"],[0.2222222222222222,\"#7201a8\"],[0.3333333333333333,\"#9c179e\"],[0.4444444444444444,\"#bd3786\"],[0.5555555555555556,\"#d8576b\"],[0.6666666666666666,\"#ed7953\"],[0.7777777777777778,\"#fb9f3a\"],[0.8888888888888888,\"#fdca26\"],[1.0,\"#f0f921\"]]}],\"choropleth\":[{\"type\":\"choropleth\",\"colorbar\":{\"outlinewidth\":0,\"ticks\":\"\"}}],\"histogram2d\":[{\"type\":\"histogram2d\",\"colorbar\":{\"outlinewidth\":0,\"ticks\":\"\"},\"colorscale\":[[0.0,\"#0d0887\"],[0.1111111111111111,\"#46039f\"],[0.2222222222222222,\"#7201a8\"],[0.3333333333333333,\"#9c179e\"],[0.4444444444444444,\"#bd3786\"],[0.5555555555555556,\"#d8576b\"],[0.6666666666666666,\"#ed7953\"],[0.7777777777777778,\"#fb9f3a\"],[0.8888888888888888,\"#fdca26\"],[1.0,\"#f0f921\"]]}],\"heatmap\":[{\"type\":\"heatmap\",\"colorbar\":{\"outlinewidth\":0,\"ticks\":\"\"},\"colorscale\":[[0.0,\"#0d0887\"],[0.1111111111111111,\"#46039f\"],[0.2222222222222222,\"#7201a8\"],[0.3333333333333333,\"#9c179e\"],[0.4444444444444444,\"#bd3786\"],[0.5555555555555556,\"#d8576b\"],[0.6666666666666666,\"#ed7953\"],[0.7777777777777778,\"#fb9f3a\"],[0.8888888888888888,\"#fdca26\"],[1.0,\"#f0f921\"]]}],\"heatmapgl\":[{\"type\":\"heatmapgl\",\"colorbar\":{\"outlinewidth\":0,\"ticks\":\"\"},\"colorscale\":[[0.0,\"#0d0887\"],[0.1111111111111111,\"#46039f\"],[0.2222222222222222,\"#7201a8\"],[0.3333333333333333,\"#9c179e\"],[0.4444444444444444,\"#bd3786\"],[0.5555555555555556,\"#d8576b\"],[0.6666666666666666,\"#ed7953\"],[0.7777777777777778,\"#fb9f3a\"],[0.8888888888888888,\"#fdca26\"],[1.0,\"#f0f921\"]]}],\"contourcarpet\":[{\"type\":\"contourcarpet\",\"colorbar\":{\"outlinewidth\":0,\"ticks\":\"\"}}],\"contour\":[{\"type\":\"contour\",\"colorbar\":{\"outlinewidth\":0,\"ticks\":\"\"},\"colorscale\":[[0.0,\"#0d0887\"],[0.1111111111111111,\"#46039f\"],[0.2222222222222222,\"#7201a8\"],[0.3333333333333333,\"#9c179e\"],[0.4444444444444444,\"#bd3786\"],[0.5555555555555556,\"#d8576b\"],[0.6666666666666666,\"#ed7953\"],[0.7777777777777778,\"#fb9f3a\"],[0.8888888888888888,\"#fdca26\"],[1.0,\"#f0f921\"]]}],\"surface\":[{\"type\":\"surface\",\"colorbar\":{\"outlinewidth\":0,\"ticks\":\"\"},\"colorscale\":[[0.0,\"#0d0887\"],[0.1111111111111111,\"#46039f\"],[0.2222222222222222,\"#7201a8\"],[0.3333333333333333,\"#9c179e\"],[0.4444444444444444,\"#bd3786\"],[0.5555555555555556,\"#d8576b\"],[0.6666666666666666,\"#ed7953\"],[0.7777777777777778,\"#fb9f3a\"],[0.8888888888888888,\"#fdca26\"],[1.0,\"#f0f921\"]]}],\"mesh3d\":[{\"type\":\"mesh3d\",\"colorbar\":{\"outlinewidth\":0,\"ticks\":\"\"}}],\"scatter\":[{\"fillpattern\":{\"fillmode\":\"overlay\",\"size\":10,\"solidity\":0.2},\"type\":\"scatter\"}],\"parcoords\":[{\"type\":\"parcoords\",\"line\":{\"colorbar\":{\"outlinewidth\":0,\"ticks\":\"\"}}}],\"scatterpolargl\":[{\"type\":\"scatterpolargl\",\"marker\":{\"colorbar\":{\"outlinewidth\":0,\"ticks\":\"\"}}}],\"bar\":[{\"error_x\":{\"color\":\"#2a3f5f\"},\"error_y\":{\"color\":\"#2a3f5f\"},\"marker\":{\"line\":{\"color\":\"#E5ECF6\",\"width\":0.5},\"pattern\":{\"fillmode\":\"overlay\",\"size\":10,\"solidity\":0.2}},\"type\":\"bar\"}],\"scattergeo\":[{\"type\":\"scattergeo\",\"marker\":{\"colorbar\":{\"outlinewidth\":0,\"ticks\":\"\"}}}],\"scatterpolar\":[{\"type\":\"scatterpolar\",\"marker\":{\"colorbar\":{\"outlinewidth\":0,\"ticks\":\"\"}}}],\"histogram\":[{\"marker\":{\"pattern\":{\"fillmode\":\"overlay\",\"size\":10,\"solidity\":0.2}},\"type\":\"histogram\"}],\"scattergl\":[{\"type\":\"scattergl\",\"marker\":{\"colorbar\":{\"outlinewidth\":0,\"ticks\":\"\"}}}],\"scatter3d\":[{\"type\":\"scatter3d\",\"line\":{\"colorbar\":{\"outlinewidth\":0,\"ticks\":\"\"}},\"marker\":{\"colorbar\":{\"outlinewidth\":0,\"ticks\":\"\"}}}],\"scattermapbox\":[{\"type\":\"scattermapbox\",\"marker\":{\"colorbar\":{\"outlinewidth\":0,\"ticks\":\"\"}}}],\"scatterternary\":[{\"type\":\"scatterternary\",\"marker\":{\"colorbar\":{\"outlinewidth\":0,\"ticks\":\"\"}}}],\"scattercarpet\":[{\"type\":\"scattercarpet\",\"marker\":{\"colorbar\":{\"outlinewidth\":0,\"ticks\":\"\"}}}],\"carpet\":[{\"aaxis\":{\"endlinecolor\":\"#2a3f5f\",\"gridcolor\":\"white\",\"linecolor\":\"white\",\"minorgridcolor\":\"white\",\"startlinecolor\":\"#2a3f5f\"},\"baxis\":{\"endlinecolor\":\"#2a3f5f\",\"gridcolor\":\"white\",\"linecolor\":\"white\",\"minorgridcolor\":\"white\",\"startlinecolor\":\"#2a3f5f\"},\"type\":\"carpet\"}],\"table\":[{\"cells\":{\"fill\":{\"color\":\"#EBF0F8\"},\"line\":{\"color\":\"white\"}},\"header\":{\"fill\":{\"color\":\"#C8D4E3\"},\"line\":{\"color\":\"white\"}},\"type\":\"table\"}],\"barpolar\":[{\"marker\":{\"line\":{\"color\":\"#E5ECF6\",\"width\":0.5},\"pattern\":{\"fillmode\":\"overlay\",\"size\":10,\"solidity\":0.2}},\"type\":\"barpolar\"}],\"pie\":[{\"automargin\":true,\"type\":\"pie\"}]},\"layout\":{\"autotypenumbers\":\"strict\",\"colorway\":[\"#636efa\",\"#EF553B\",\"#00cc96\",\"#ab63fa\",\"#FFA15A\",\"#19d3f3\",\"#FF6692\",\"#B6E880\",\"#FF97FF\",\"#FECB52\"],\"font\":{\"color\":\"#2a3f5f\"},\"hovermode\":\"closest\",\"hoverlabel\":{\"align\":\"left\"},\"paper_bgcolor\":\"white\",\"plot_bgcolor\":\"#E5ECF6\",\"polar\":{\"bgcolor\":\"#E5ECF6\",\"angularaxis\":{\"gridcolor\":\"white\",\"linecolor\":\"white\",\"ticks\":\"\"},\"radialaxis\":{\"gridcolor\":\"white\",\"linecolor\":\"white\",\"ticks\":\"\"}},\"ternary\":{\"bgcolor\":\"#E5ECF6\",\"aaxis\":{\"gridcolor\":\"white\",\"linecolor\":\"white\",\"ticks\":\"\"},\"baxis\":{\"gridcolor\":\"white\",\"linecolor\":\"white\",\"ticks\":\"\"},\"caxis\":{\"gridcolor\":\"white\",\"linecolor\":\"white\",\"ticks\":\"\"}},\"coloraxis\":{\"colorbar\":{\"outlinewidth\":0,\"ticks\":\"\"}},\"colorscale\":{\"sequential\":[[0.0,\"#0d0887\"],[0.1111111111111111,\"#46039f\"],[0.2222222222222222,\"#7201a8\"],[0.3333333333333333,\"#9c179e\"],[0.4444444444444444,\"#bd3786\"],[0.5555555555555556,\"#d8576b\"],[0.6666666666666666,\"#ed7953\"],[0.7777777777777778,\"#fb9f3a\"],[0.8888888888888888,\"#fdca26\"],[1.0,\"#f0f921\"]],\"sequentialminus\":[[0.0,\"#0d0887\"],[0.1111111111111111,\"#46039f\"],[0.2222222222222222,\"#7201a8\"],[0.3333333333333333,\"#9c179e\"],[0.4444444444444444,\"#bd3786\"],[0.5555555555555556,\"#d8576b\"],[0.6666666666666666,\"#ed7953\"],[0.7777777777777778,\"#fb9f3a\"],[0.8888888888888888,\"#fdca26\"],[1.0,\"#f0f921\"]],\"diverging\":[[0,\"#8e0152\"],[0.1,\"#c51b7d\"],[0.2,\"#de77ae\"],[0.3,\"#f1b6da\"],[0.4,\"#fde0ef\"],[0.5,\"#f7f7f7\"],[0.6,\"#e6f5d0\"],[0.7,\"#b8e186\"],[0.8,\"#7fbc41\"],[0.9,\"#4d9221\"],[1,\"#276419\"]]},\"xaxis\":{\"gridcolor\":\"white\",\"linecolor\":\"white\",\"ticks\":\"\",\"title\":{\"standoff\":15},\"zerolinecolor\":\"white\",\"automargin\":true,\"zerolinewidth\":2},\"yaxis\":{\"gridcolor\":\"white\",\"linecolor\":\"white\",\"ticks\":\"\",\"title\":{\"standoff\":15},\"zerolinecolor\":\"white\",\"automargin\":true,\"zerolinewidth\":2},\"scene\":{\"xaxis\":{\"backgroundcolor\":\"#E5ECF6\",\"gridcolor\":\"white\",\"linecolor\":\"white\",\"showbackground\":true,\"ticks\":\"\",\"zerolinecolor\":\"white\",\"gridwidth\":2},\"yaxis\":{\"backgroundcolor\":\"#E5ECF6\",\"gridcolor\":\"white\",\"linecolor\":\"white\",\"showbackground\":true,\"ticks\":\"\",\"zerolinecolor\":\"white\",\"gridwidth\":2},\"zaxis\":{\"backgroundcolor\":\"#E5ECF6\",\"gridcolor\":\"white\",\"linecolor\":\"white\",\"showbackground\":true,\"ticks\":\"\",\"zerolinecolor\":\"white\",\"gridwidth\":2}},\"shapedefaults\":{\"line\":{\"color\":\"#2a3f5f\"}},\"annotationdefaults\":{\"arrowcolor\":\"#2a3f5f\",\"arrowhead\":0,\"arrowwidth\":1},\"geo\":{\"bgcolor\":\"white\",\"landcolor\":\"#E5ECF6\",\"subunitcolor\":\"white\",\"showland\":true,\"showlakes\":true,\"lakecolor\":\"white\"},\"title\":{\"x\":0.05},\"mapbox\":{\"style\":\"light\"}}},\"barmode\":\"group\"},                        {\"responsive\": true}                    ).then(function(){\n",
              "                            \n",
              "var gd = document.getElementById('2eb74828-c0df-469f-abe0-0517b5640551');\n",
              "var x = new MutationObserver(function (mutations, observer) {{\n",
              "        var display = window.getComputedStyle(gd).display;\n",
              "        if (!display || display === 'none') {{\n",
              "            console.log([gd, 'removed!']);\n",
              "            Plotly.purge(gd);\n",
              "            observer.disconnect();\n",
              "        }}\n",
              "}});\n",
              "\n",
              "// Listen for the removal of the full notebook cells\n",
              "var notebookContainer = gd.closest('#notebook-container');\n",
              "if (notebookContainer) {{\n",
              "    x.observe(notebookContainer, {childList: true});\n",
              "}}\n",
              "\n",
              "// Listen for the clearing of the current output cell\n",
              "var outputEl = gd.closest('.output');\n",
              "if (outputEl) {{\n",
              "    x.observe(outputEl, {childList: true});\n",
              "}}\n",
              "\n",
              "                        })                };                            </script>        </div>\n",
              "</body>\n",
              "</html>"
            ]
          },
          "metadata": {}
        }
      ]
    },
    {
      "cell_type": "code",
      "source": [
        "from google.colab import drive\n",
        "drive.mount('/content/drive')"
      ],
      "metadata": {
        "colab": {
          "base_uri": "https://localhost:8080/"
        },
        "id": "BnwkZSjsqXfT",
        "outputId": "721f7004-9c5a-4a68-e4ae-d44938c4dcf8"
      },
      "execution_count": 1,
      "outputs": [
        {
          "output_type": "stream",
          "name": "stdout",
          "text": [
            "Mounted at /content/drive\n"
          ]
        }
      ]
    }
  ]
}