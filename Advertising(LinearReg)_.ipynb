{
  "metadata": {
    "language_info": {
      "name": "python",
      "version": "3.7.8",
      "mimetype": "text/x-python",
      "codemirror_mode": {
        "name": "ipython",
        "version": 3
      },
      "pygments_lexer": "ipython3",
      "nbconvert_exporter": "python",
      "file_extension": ".py"
    },
    "kernelspec": {
      "name": "python3",
      "display_name": "Python 3",
      "language": "python"
    },
    "colab": {
      "provenance": [],
      "include_colab_link": true
    }
  },
  "nbformat_minor": 0,
  "nbformat": 4,
  "cells": [
    {
      "cell_type": "markdown",
      "metadata": {
        "id": "view-in-github",
        "colab_type": "text"
      },
      "source": [
        "<a href=\"https://colab.research.google.com/github/kilos11/Data_Science/blob/main/Advertising(LinearReg)_.ipynb\" target=\"_parent\"><img src=\"https://colab.research.google.com/assets/colab-badge.svg\" alt=\"Open In Colab\"/></a>"
      ]
    },
    {
      "cell_type": "markdown",
      "source": [
        "# Linear Regression on Advertising Dataset"
      ],
      "metadata": {
        "id": "CRHqpNHeeFSv"
      }
    },
    {
      "cell_type": "code",
      "source": [
        "import pandas as pd\n",
        "import numpy as np\n",
        "import matplotlib.pyplot as plt\n",
        "from sklearn.linear_model import LinearRegression\n",
        "from sklearn.metrics import r2_score\n",
        "import statsmodels.api as sm\n",
        "%matplotlib inline"
      ],
      "metadata": {
        "trusted": true,
        "id": "rxdP1DoieFTF"
      },
      "execution_count": null,
      "outputs": []
    },
    {
      "cell_type": "code",
      "source": [
        "data = pd.read_csv(\"Ads.csv\")"
      ],
      "metadata": {
        "trusted": true,
        "id": "YQUh0eYOeFTM"
      },
      "execution_count": null,
      "outputs": []
    },
    {
      "cell_type": "code",
      "source": [
        "data.head(10)"
      ],
      "metadata": {
        "trusted": true,
        "id": "ljfpmGRyeFTO",
        "outputId": "95dc5b7d-cf0a-4547-c68c-6987185da692"
      },
      "execution_count": null,
      "outputs": [
        {
          "execution_count": 3,
          "output_type": "execute_result",
          "data": {
            "text/plain": "   Unnamed: 0     TV  radio  newspaper  sales\n0           1  230.1   37.8       69.2   22.1\n1           2   44.5   39.3       45.1   10.4\n2           3   17.2   45.9       69.3    9.3\n3           4  151.5   41.3       58.5   18.5\n4           5  180.8   10.8       58.4   12.9\n5           6    8.7   48.9       75.0    7.2\n6           7   57.5   32.8       23.5   11.8\n7           8  120.2   19.6       11.6   13.2\n8           9    8.6    2.1        1.0    4.8\n9          10  199.8    2.6       21.2   10.6",
            "text/html": "<div>\n<style scoped>\n    .dataframe tbody tr th:only-of-type {\n        vertical-align: middle;\n    }\n\n    .dataframe tbody tr th {\n        vertical-align: top;\n    }\n\n    .dataframe thead th {\n        text-align: right;\n    }\n</style>\n<table border=\"1\" class=\"dataframe\">\n  <thead>\n    <tr style=\"text-align: right;\">\n      <th></th>\n      <th>Unnamed: 0</th>\n      <th>TV</th>\n      <th>radio</th>\n      <th>newspaper</th>\n      <th>sales</th>\n    </tr>\n  </thead>\n  <tbody>\n    <tr>\n      <th>0</th>\n      <td>1</td>\n      <td>230.1</td>\n      <td>37.8</td>\n      <td>69.2</td>\n      <td>22.1</td>\n    </tr>\n    <tr>\n      <th>1</th>\n      <td>2</td>\n      <td>44.5</td>\n      <td>39.3</td>\n      <td>45.1</td>\n      <td>10.4</td>\n    </tr>\n    <tr>\n      <th>2</th>\n      <td>3</td>\n      <td>17.2</td>\n      <td>45.9</td>\n      <td>69.3</td>\n      <td>9.3</td>\n    </tr>\n    <tr>\n      <th>3</th>\n      <td>4</td>\n      <td>151.5</td>\n      <td>41.3</td>\n      <td>58.5</td>\n      <td>18.5</td>\n    </tr>\n    <tr>\n      <th>4</th>\n      <td>5</td>\n      <td>180.8</td>\n      <td>10.8</td>\n      <td>58.4</td>\n      <td>12.9</td>\n    </tr>\n    <tr>\n      <th>5</th>\n      <td>6</td>\n      <td>8.7</td>\n      <td>48.9</td>\n      <td>75.0</td>\n      <td>7.2</td>\n    </tr>\n    <tr>\n      <th>6</th>\n      <td>7</td>\n      <td>57.5</td>\n      <td>32.8</td>\n      <td>23.5</td>\n      <td>11.8</td>\n    </tr>\n    <tr>\n      <th>7</th>\n      <td>8</td>\n      <td>120.2</td>\n      <td>19.6</td>\n      <td>11.6</td>\n      <td>13.2</td>\n    </tr>\n    <tr>\n      <th>8</th>\n      <td>9</td>\n      <td>8.6</td>\n      <td>2.1</td>\n      <td>1.0</td>\n      <td>4.8</td>\n    </tr>\n    <tr>\n      <th>9</th>\n      <td>10</td>\n      <td>199.8</td>\n      <td>2.6</td>\n      <td>21.2</td>\n      <td>10.6</td>\n    </tr>\n  </tbody>\n</table>\n</div>"
          },
          "metadata": {}
        }
      ]
    },
    {
      "cell_type": "code",
      "source": [
        "data.shape"
      ],
      "metadata": {
        "trusted": true,
        "id": "Vkxzf5ggeFTV",
        "outputId": "4fba4e89-8a42-41b4-db70-224fff659a55"
      },
      "execution_count": null,
      "outputs": [
        {
          "execution_count": 4,
          "output_type": "execute_result",
          "data": {
            "text/plain": "(200, 5)"
          },
          "metadata": {}
        }
      ]
    },
    {
      "cell_type": "code",
      "source": [
        "data.describe()"
      ],
      "metadata": {
        "trusted": true,
        "id": "2-1obuYJeFTZ",
        "outputId": "b70f1f30-ddb0-497b-9e1f-ebdd2c074c6a"
      },
      "execution_count": null,
      "outputs": [
        {
          "execution_count": 5,
          "output_type": "execute_result",
          "data": {
            "text/plain": "       Unnamed: 0          TV       radio   newspaper       sales\ncount  200.000000  200.000000  200.000000  200.000000  200.000000\nmean   100.500000  147.042500   23.264000   30.554000   14.022500\nstd     57.879185   85.854236   14.846809   21.778621    5.217457\nmin      1.000000    0.700000    0.000000    0.300000    1.600000\n25%     50.750000   74.375000    9.975000   12.750000   10.375000\n50%    100.500000  149.750000   22.900000   25.750000   12.900000\n75%    150.250000  218.825000   36.525000   45.100000   17.400000\nmax    200.000000  296.400000   49.600000  114.000000   27.000000",
            "text/html": "<div>\n<style scoped>\n    .dataframe tbody tr th:only-of-type {\n        vertical-align: middle;\n    }\n\n    .dataframe tbody tr th {\n        vertical-align: top;\n    }\n\n    .dataframe thead th {\n        text-align: right;\n    }\n</style>\n<table border=\"1\" class=\"dataframe\">\n  <thead>\n    <tr style=\"text-align: right;\">\n      <th></th>\n      <th>Unnamed: 0</th>\n      <th>TV</th>\n      <th>radio</th>\n      <th>newspaper</th>\n      <th>sales</th>\n    </tr>\n  </thead>\n  <tbody>\n    <tr>\n      <th>count</th>\n      <td>200.000000</td>\n      <td>200.000000</td>\n      <td>200.000000</td>\n      <td>200.000000</td>\n      <td>200.000000</td>\n    </tr>\n    <tr>\n      <th>mean</th>\n      <td>100.500000</td>\n      <td>147.042500</td>\n      <td>23.264000</td>\n      <td>30.554000</td>\n      <td>14.022500</td>\n    </tr>\n    <tr>\n      <th>std</th>\n      <td>57.879185</td>\n      <td>85.854236</td>\n      <td>14.846809</td>\n      <td>21.778621</td>\n      <td>5.217457</td>\n    </tr>\n    <tr>\n      <th>min</th>\n      <td>1.000000</td>\n      <td>0.700000</td>\n      <td>0.000000</td>\n      <td>0.300000</td>\n      <td>1.600000</td>\n    </tr>\n    <tr>\n      <th>25%</th>\n      <td>50.750000</td>\n      <td>74.375000</td>\n      <td>9.975000</td>\n      <td>12.750000</td>\n      <td>10.375000</td>\n    </tr>\n    <tr>\n      <th>50%</th>\n      <td>100.500000</td>\n      <td>149.750000</td>\n      <td>22.900000</td>\n      <td>25.750000</td>\n      <td>12.900000</td>\n    </tr>\n    <tr>\n      <th>75%</th>\n      <td>150.250000</td>\n      <td>218.825000</td>\n      <td>36.525000</td>\n      <td>45.100000</td>\n      <td>17.400000</td>\n    </tr>\n    <tr>\n      <th>max</th>\n      <td>200.000000</td>\n      <td>296.400000</td>\n      <td>49.600000</td>\n      <td>114.000000</td>\n      <td>27.000000</td>\n    </tr>\n  </tbody>\n</table>\n</div>"
          },
          "metadata": {}
        }
      ]
    },
    {
      "cell_type": "code",
      "source": [
        "\n",
        "data.drop(['Unnamed: 0'], axis=1)\n",
        "# This line of code drops the column labeled 'Unnamed: 0' from the DataFrame 'data'\n",
        "# The 'axis=1' parameter specifies that we are dropping a column, not a row\n",
        "# After executing this code, the column 'Unnamed: 0' will be removed from the 'data' DataFrame"
      ],
      "metadata": {
        "trusted": true,
        "id": "aqdoRgj5eFTc"
      },
      "execution_count": null,
      "outputs": []
    },
    {
      "cell_type": "code",
      "source": [
        "data.columns"
      ],
      "metadata": {
        "trusted": true,
        "id": "drnzeYmgeFTf",
        "outputId": "3f31f845-0e15-494a-b188-dd2913e25f1d"
      },
      "execution_count": null,
      "outputs": [
        {
          "execution_count": 7,
          "output_type": "execute_result",
          "data": {
            "text/plain": "Index(['Unnamed: 0', 'TV', 'radio', 'newspaper', 'sales'], dtype='object')"
          },
          "metadata": {}
        }
      ]
    },
    {
      "cell_type": "code",
      "source": [
        "plt.figure(figsize=(16, 8))\n",
        "plt.scatter(data['TV'], data['sales'], c='green')\n",
        "plt.xlabel(\"Money spent on TV ads in Dollars\")\n",
        "plt.ylabel(\"Sales in Dollars\")\n",
        "plt.show()"
      ],
      "metadata": {
        "trusted": true,
        "id": "uttSjbZ-eFTm"
      },
      "execution_count": null,
      "outputs": []
    },
    {
      "cell_type": "code",
      "source": [
        "X = data['TV'].values.reshape(-1,1)\n",
        "y = data['sales'].values.reshape(-1,1)\n",
        "\n",
        "reg = LinearRegression()\n",
        "reg.fit(X, y)"
      ],
      "metadata": {
        "trusted": true,
        "id": "1R7gOGv_eFTr",
        "outputId": "4bcc73ec-bddd-4c5c-eae0-fecc84af71ae"
      },
      "execution_count": null,
      "outputs": [
        {
          "execution_count": 9,
          "output_type": "execute_result",
          "data": {
            "text/plain": "LinearRegression(copy_X=True, fit_intercept=True, n_jobs=None, normalize=False)"
          },
          "metadata": {}
        }
      ]
    },
    {
      "cell_type": "code",
      "source": [
        "print(reg.coef_[0][0])\n",
        "print(reg.intercept_[0])\n",
        "\n",
        "print(\"The linear model is: Y = {:.5} + {:.5}X\".format(reg.intercept_[0], reg.coef_[0][0]))"
      ],
      "metadata": {
        "trusted": true,
        "id": "mV6QSr_peFTw",
        "outputId": "21052ee9-b6c6-44d0-89f5-16d929c3f0a3"
      },
      "execution_count": null,
      "outputs": [
        {
          "name": "stdout",
          "text": "0.04753664043301975\n7.032593549127695\nThe linear model is: Y = 7.0326 + 0.047537X\n",
          "output_type": "stream"
        }
      ]
    },
    {
      "cell_type": "code",
      "source": [
        "predictions = reg.predict(X)\n",
        "\n",
        "plt.figure(figsize=(16, 8))\n",
        "plt.scatter( data['TV'], data['sales'], color='red')\n",
        "plt.plot( data['TV'], predictions, c='black', linewidth=3)\n",
        "plt.xlabel(\"Money spent on TV ads in Dollars\")\n",
        "plt.ylabel(\"Sales in Dollars\")\n",
        "plt.show()"
      ],
      "metadata": {
        "trusted": true,
        "id": "VyDtKe4NeFT1",
        "outputId": "8c5eb101-abb5-47be-f753-2969f1e2831a"
      },
      "execution_count": null,
      "outputs": [
        {
          "output_type": "display_data",
          "data": {
            "text/plain": "<Figure size 1152x576 with 1 Axes>",
            "image/png": "[encoded data removed]"
          },
          "metadata": {
            "needs_background": "light"
          }
        }
      ]
    },
    {
      "cell_type": "code",
      "source": [
        "\n",
        "# Assign the 'TV' column of the 'data' DataFrame to the variable 'X'\n",
        "X = data['TV']\n",
        "\n",
        "# Assign the 'sales' column of the 'data' DataFrame to the variable 'y'\n",
        "y = data['sales']\n",
        "\n",
        "# Add a constant column to the 'X' variable using the sm.add_constant() function\n",
        "X2 = sm.add_constant(X)\n",
        "\n",
        "# Create an Ordinary Least Squares (OLS) model using the sm.OLS() function\n",
        "EST = sm.OLS(y, X2)\n",
        "\n",
        "# Fit the model to the data and obtain the results using the fit() method\n",
        "EST2 = EST.fit()\n",
        "\n",
        "# Print the summary of the model using the summary() method\n",
        "print(EST2.summary())"
      ],
      "metadata": {
        "trusted": true,
        "id": "lJG6vX-feFT6",
        "outputId": "2d57e192-ada1-4524-a249-6a2c5ae007b8"
      },
      "execution_count": null,
      "outputs": [
        {
          "name": "stdout",
          "text": "                            OLS Regression Results                            \n==============================================================================\nDep. Variable:                  sales   R-squared:                       0.612\nModel:                            OLS   Adj. R-squared:                  0.610\nMethod:                 Least Squares   F-statistic:                     312.1\nDate:                Mon, 09 Nov 2020   Prob (F-statistic):           1.47e-42\nTime:                        09:21:49   Log-Likelihood:                -519.05\nNo. Observations:                 200   AIC:                             1042.\nDf Residuals:                     198   BIC:                             1049.\nDf Model:                           1                                         \nCovariance Type:            nonrobust                                         \n==============================================================================\n                 coef    std err          t      P>|t|      [0.025      0.975]\n------------------------------------------------------------------------------\nconst          7.0326      0.458     15.360      0.000       6.130       7.935\nTV             0.0475      0.003     17.668      0.000       0.042       0.053\n==============================================================================\nOmnibus:                        0.531   Durbin-Watson:                   1.935\nProb(Omnibus):                  0.767   Jarque-Bera (JB):                0.669\nSkew:                          -0.089   Prob(JB):                        0.716\nKurtosis:                       2.779   Cond. No.                         338.\n==============================================================================\n\nNotes:\n[1] Standard Errors assume that the covariance matrix of the errors is correctly specified.\n",
          "output_type": "stream"
        },
        {
          "name": "stderr",
          "text": "/srv/conda/envs/notebook/lib/python3.7/site-packages/numpy/core/fromnumeric.py:2580: FutureWarning: Method .ptp is deprecated and will be removed in a future version. Use numpy.ptp instead.\n  return ptp(axis=axis, out=out, **kwargs)\n",
          "output_type": "stream"
        }
      ]
    },
    {
      "cell_type": "code",
      "source": [
        "Xs = data.drop(['sales', 'Unnamed: 0'], axis=1)\n",
        "y = data['sales'].values.reshape(-1,1)\n",
        "\n",
        "reg = LinearRegression()\n",
        "reg.fit(Xs, y)"
      ],
      "metadata": {
        "trusted": true,
        "id": "DG4fpYE6eFT9",
        "outputId": "c792549e-854b-4ce0-fa28-9b40c953af35"
      },
      "execution_count": null,
      "outputs": [
        {
          "execution_count": 13,
          "output_type": "execute_result",
          "data": {
            "text/plain": "LinearRegression(copy_X=True, fit_intercept=True, n_jobs=None, normalize=False)"
          },
          "metadata": {}
        }
      ]
    },
    {
      "cell_type": "code",
      "source": [
        "print(reg.coef_)\n",
        "print(reg.intercept_)"
      ],
      "metadata": {
        "trusted": true,
        "id": "9s3Q7jdceFUE",
        "outputId": "f756dae2-7a08-484a-d429-a0b85577f1c9"
      },
      "execution_count": null,
      "outputs": [
        {
          "name": "stdout",
          "text": "[[ 0.04576465  0.18853002 -0.00103749]]\n[2.93888937]\n",
          "output_type": "stream"
        }
      ]
    },
    {
      "cell_type": "code",
      "source": [
        "print(\"The linear model is: Y = {:.5} + {:.5}*TV + {:.5}*radio + {:.5}*newspaper\".format(reg.intercept_[0], reg.coef_[0][0], reg.coef_[0][1], reg.coef_[0][2]))"
      ],
      "metadata": {
        "trusted": true,
        "id": "8Wu9MBa5eFUH",
        "outputId": "50a14d4f-4b14-44d7-cd02-5931c771a8fa"
      },
      "execution_count": null,
      "outputs": [
        {
          "name": "stdout",
          "text": "The linear model is: Y = 2.9389 + 0.045765*TV + 0.18853*radio + -0.0010375*newspaper\n",
          "output_type": "stream"
        }
      ]
    },
    {
      "cell_type": "code",
      "source": [
        "reg.score(Xs, y)"
      ],
      "metadata": {
        "trusted": true,
        "id": "XL3Uz7CaeFUK",
        "outputId": "0b47f7ad-6372-4c48-8b78-b2aa01024d73"
      },
      "execution_count": null,
      "outputs": [
        {
          "execution_count": 16,
          "output_type": "execute_result",
          "data": {
            "text/plain": "0.8972106381789521"
          },
          "metadata": {}
        }
      ]
    },
    {
      "cell_type": "code",
      "source": [
        "X = np.column_stack((data['TV'], data['radio'], data['newspaper']))\n",
        "y = data['sales']\n",
        "\n",
        "X2 = sm.add_constant(X)\n",
        "est = sm.OLS(y, X2)\n",
        "est2 = est.fit()\n",
        "print(est2.summary())"
      ],
      "metadata": {
        "trusted": true,
        "id": "LyUSLw1IeFUN",
        "outputId": "24e3786e-ecde-4d76-f12a-9896651a4b15"
      },
      "execution_count": null,
      "outputs": [
        {
          "name": "stdout",
          "text": "                            OLS Regression Results                            \n==============================================================================\nDep. Variable:                  sales   R-squared:                       0.897\nModel:                            OLS   Adj. R-squared:                  0.896\nMethod:                 Least Squares   F-statistic:                     570.3\nDate:                Mon, 09 Nov 2020   Prob (F-statistic):           1.58e-96\nTime:                        09:21:49   Log-Likelihood:                -386.18\nNo. Observations:                 200   AIC:                             780.4\nDf Residuals:                     196   BIC:                             793.6\nDf Model:                           3                                         \nCovariance Type:            nonrobust                                         \n==============================================================================\n                 coef    std err          t      P>|t|      [0.025      0.975]\n------------------------------------------------------------------------------\nconst          2.9389      0.312      9.422      0.000       2.324       3.554\nx1             0.0458      0.001     32.809      0.000       0.043       0.049\nx2             0.1885      0.009     21.893      0.000       0.172       0.206\nx3            -0.0010      0.006     -0.177      0.860      -0.013       0.011\n==============================================================================\nOmnibus:                       60.414   Durbin-Watson:                   2.084\nProb(Omnibus):                  0.000   Jarque-Bera (JB):              151.241\nSkew:                          -1.327   Prob(JB):                     1.44e-33\nKurtosis:                       6.332   Cond. No.                         454.\n==============================================================================\n\nNotes:\n[1] Standard Errors assume that the covariance matrix of the errors is correctly specified.\n",
          "output_type": "stream"
        }
      ]
    }
  ]
}