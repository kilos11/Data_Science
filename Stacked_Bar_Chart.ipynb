{
  "cells": [
    {
      "cell_type": "markdown",
      "metadata": {
        "id": "view-in-github",
        "colab_type": "text"
      },
      "source": [
        "<a href=\"https://colab.research.google.com/github/kilos11/Data_Science/blob/main/Stacked_Bar_Chart.ipynb\" target=\"_parent\"><img src=\"https://colab.research.google.com/assets/colab-badge.svg\" alt=\"Open In Colab\"/></a>"
      ]
    },
    {
      "cell_type": "markdown",
      "metadata": {
        "id": "gOQp-UyORd-U"
      },
      "source": [
        "# Stacked Bar Chart"
      ]
    },
    {
      "cell_type": "code",
      "execution_count": null,
      "metadata": {
        "id": "xCpQdpMqRd-l"
      },
      "outputs": [],
      "source": [
        "import matplotlib.pyplot as plt\n",
        "import numpy as np\n",
        "%matplotlib inline"
      ]
    },
    {
      "cell_type": "markdown",
      "metadata": {
        "id": "iee4kkRuRd-r"
      },
      "source": [
        "## Example 1"
      ]
    },
    {
      "cell_type": "code",
      "execution_count": null,
      "metadata": {
        "colab": {
          "base_uri": "https://localhost:8080/",
          "height": 227
        },
        "id": "W-b7u2THRd-t",
        "outputId": "ca62750b-9282-4dc8-b334-e629ea4d081a"
      },
      "outputs": [
        {
          "output_type": "display_data",
          "data": {
            "text/plain": [
              "<Figure size 640x480 with 1 Axes>"
            ],
            "image/png": "[encoded data removed]"
          },
          "metadata": {}
        }
      ],
      "source": [
        "\n",
        "import matplotlib.pyplot as plt\n",
        "\n",
        "# Define the labels for the x-axis\n",
        "labels = ['G1', 'G2', 'G3', 'G4', 'G5']\n",
        "\n",
        "# Define the data for men and women\n",
        "men = [20, 35, 30, 35, 27]\n",
        "women = [25, 32, 34, 20, 25]\n",
        "\n",
        "# Define the standard deviation for men and women\n",
        "men_std = [2, 3, 4, 1, 2]\n",
        "women_std = [3, 5, 2, 3, 3]\n",
        "\n",
        "# Create a figure and axes\n",
        "fig, ax = plt.subplots()\n",
        "\n",
        "# Plot the bar chart for men\n",
        "ax.bar(labels, men, 0.4, yerr=men_std, label='Men')\n",
        "# This plots the bar chart for men with the specified labels on the x-axis\n",
        "# The bar width is set to 0.4, and the y-error bars are added using the men_std values\n",
        "\n",
        "# Plot the bar chart for women, stacked on top of men\n",
        "ax.bar(labels, women, 0.4, yerr=women_std, bottom=men, label='Women')\n",
        "# This plots the bar chart for women with the specified labels on the x-axis\n",
        "# The bar width is set to 0.4, and the y-error bars are added using the women_std values\n",
        "# The 'bottom' parameter is set to the men data, which stacks the women bars on top of the men bars\n",
        "\n",
        "# Set the y-axis label and title\n",
        "ax.set_ylabel('Scores')\n",
        "ax.set_title('Scores by group and gender')\n",
        "\n",
        "# Add a legend to the plot\n",
        "ax.legend()\n",
        "\n",
        "# Display the plot\n",
        "plt.show()\n",
        "# This displays the bar chart plot"
      ]
    },
    {
      "cell_type": "markdown",
      "metadata": {
        "id": "UupJVpA6Rd-z"
      },
      "source": [
        "## Example 2"
      ]
    },
    {
      "cell_type": "code",
      "execution_count": 2,
      "metadata": {
        "id": "VLLuXA3PRd-0",
        "colab": {
          "base_uri": "https://localhost:8080/",
          "height": 229
        },
        "outputId": "31f0cc62-0cb3-424d-c969-aa4803c68fd4"
      },
      "outputs": [
        {
          "output_type": "display_data",
          "data": {
            "text/plain": [
              "<Figure size 640x480 with 1 Axes>"
            ],
            "image/png": "[encoded data removed]"
          },
          "metadata": {}
        }
      ],
      "source": [
        "\n",
        "import numpy as np\n",
        "import matplotlib.pyplot as plt\n",
        "from matplotlib import rc\n",
        "import pandas as pd\n",
        "\n",
        "# Define the x-axis values\n",
        "r = [0, 1, 2, 3, 4]\n",
        "\n",
        "# Define the raw data for each bar category\n",
        "raw_data = {'greenBars': [20, 1.5, 7, 10, 5],\n",
        "            'orangeBars': [5, 15, 5, 10, 15],\n",
        "            'blueBars': [2, 15, 18, 5, 10]}\n",
        "# The greenBars, orangeBars, and blueBars represent the heights of the bars in each category\n",
        "\n",
        "# Create a DataFrame from the raw data\n",
        "df = pd.DataFrame(raw_data)\n",
        "\n",
        "# Calculate the percentage values for each bar category\n",
        "totals = [i + j + k for i, j, k in zip(df['greenBars'], df['orangeBars'], df['blueBars'])]\n",
        "greenBars = [i / j * 100 for i, j in zip(df['greenBars'], totals)]\n",
        "orangeBars = [i / j * 100 for i, j in zip(df['orangeBars'], totals)]\n",
        "blueBars = [i / j * 100 for i, j in zip(df['blueBars'], totals)]\n",
        "\n",
        "# Set the width of the bars\n",
        "barWidth = 0.85\n",
        "\n",
        "# Define the labels for the x-axis\n",
        "names = ('A', 'B', 'C', 'D', 'E')\n",
        "\n",
        "# Create the green bars\n",
        "plt.bar(r, greenBars, color='#b5ffb9', edgecolor='white', width=barWidth)\n",
        "# This plots the green bars at the positions defined by r\n",
        "# The color is set to '#b5ffb9', the edge color is set to 'white', and the width is set to barWidth\n",
        "\n",
        "# Create the orange bars, stacked on top of the green bars\n",
        "plt.bar(r, orangeBars, bottom=greenBars, color='#f9bc86', edgecolor='white', width=barWidth)\n",
        "# This plots the orange bars at the positions defined by r, with the bottom set to greenBars\n",
        "# The color is set to '#f9bc86', the edge color is set to 'white', and the width is set to barWidth\n",
        "\n",
        "# Create the blue bars, stacked on top of the green and orange bars\n",
        "plt.bar(r, blueBars, bottom=[i + j for i, j in zip(greenBars, orangeBars)], color='#a3acff', edgecolor='white', width=barWidth)\n",
        "# This plots the blue bars at the positions defined by r, with the bottom set to the sum of greenBars and orangeBars\n",
        "# The color is set to '#a3acff', the edge color is set to 'white', and the width is set to barWidth\n",
        "\n",
        "# Customize the x-axis labels\n",
        "plt.xticks(r, names)\n",
        "# This sets the x-axis tick positions to r, and the tick labels to names\n",
        "plt.xlabel(\"group\")\n",
        "\n",
        "# Show the plot\n",
        "plt.show()\n",
        "# This displays the bar chart plot"
      ]
    }
  ],
  "metadata": {
    "kernelspec": {
      "display_name": "Python 3",
      "language": "python",
      "name": "python3"
    },
    "language_info": {
      "codemirror_mode": {
        "name": "ipython",
        "version": 3
      },
      "file_extension": ".py",
      "mimetype": "text/x-python",
      "name": "python",
      "nbconvert_exporter": "python",
      "pygments_lexer": "ipython3",
      "version": "3.7.8"
    },
    "colab": {
      "provenance": [],
      "include_colab_link": true
    }
  },
  "nbformat": 4,
  "nbformat_minor": 0
}