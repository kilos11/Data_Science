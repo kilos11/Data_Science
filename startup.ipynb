{
  "metadata": {
    "language_info": {
      "name": "python",
      "version": "3.7.8",
      "mimetype": "text/x-python",
      "codemirror_mode": {
        "name": "ipython",
        "version": 3
      },
      "pygments_lexer": "ipython3",
      "nbconvert_exporter": "python",
      "file_extension": ".py"
    },
    "kernelspec": {
      "name": "python3",
      "display_name": "Python 3",
      "language": "python"
    },
    "colab": {
      "provenance": [],
      "include_colab_link": true
    }
  },
  "nbformat_minor": 0,
  "nbformat": 4,
  "cells": [
    {
      "cell_type": "markdown",
      "metadata": {
        "id": "view-in-github",
        "colab_type": "text"
      },
      "source": [
        "<a href=\"https://colab.research.google.com/github/kilos11/Data_Science/blob/main/startup.ipynb\" target=\"_parent\"><img src=\"https://colab.research.google.com/assets/colab-badge.svg\" alt=\"Open In Colab\"/></a>"
      ]
    },
    {
      "cell_type": "markdown",
      "source": [
        "# Multiple Linear Regression on Startup Dataset"
      ],
      "metadata": {
        "id": "dYXaHvFJxzAL"
      }
    },
    {
      "cell_type": "code",
      "source": [
        "import pandas as pd\n",
        "import numpy as np\n",
        "from sklearn.preprocessing import LabelEncoder, OneHotEncoder\n",
        "from sklearn.model_selection import train_test_split\n",
        "from sklearn.linear_model import LinearRegression"
      ],
      "metadata": {
        "trusted": true,
        "id": "QNheVhGfxzAh"
      },
      "execution_count": null,
      "outputs": []
    },
    {
      "cell_type": "code",
      "source": [
        "data = pd.read_csv('startups.csv')\n",
        "X = data.iloc[ : , :-1].values\n",
        "Y = data.iloc[ : ,  4 ].values"
      ],
      "metadata": {
        "trusted": true,
        "id": "7p8skQzZxzAo"
      },
      "execution_count": null,
      "outputs": []
    },
    {
      "cell_type": "code",
      "source": [
        "data.shape"
      ],
      "metadata": {
        "trusted": true,
        "id": "sZggUnc6xzAq",
        "outputId": "003fe18b-88c4-4943-f169-f2e09ce94628"
      },
      "execution_count": null,
      "outputs": [
        {
          "execution_count": 3,
          "output_type": "execute_result",
          "data": {
            "text/plain": "(50, 5)"
          },
          "metadata": {}
        }
      ]
    },
    {
      "cell_type": "code",
      "source": [
        "data.head()"
      ],
      "metadata": {
        "trusted": true,
        "id": "X0UXztngxzAu",
        "outputId": "d2759df6-d736-4c47-c5e7-f5ded0441461"
      },
      "execution_count": null,
      "outputs": [
        {
          "execution_count": 4,
          "output_type": "execute_result",
          "data": {
            "text/plain": "   R&D Spend  Administration  Marketing Spend       State     Profit\n0  165349.20       136897.80        471784.10    New York  192261.83\n1  162597.70       151377.59        443898.53  California  191792.06\n2  153441.51       101145.55        407934.54     Florida  191050.39\n3  144372.41       118671.85        383199.62    New York  182901.99\n4  142107.34        91391.77        366168.42     Florida  166187.94",
            "text/html": "<div>\n<style scoped>\n    .dataframe tbody tr th:only-of-type {\n        vertical-align: middle;\n    }\n\n    .dataframe tbody tr th {\n        vertical-align: top;\n    }\n\n    .dataframe thead th {\n        text-align: right;\n    }\n</style>\n<table border=\"1\" class=\"dataframe\">\n  <thead>\n    <tr style=\"text-align: right;\">\n      <th></th>\n      <th>R&amp;D Spend</th>\n      <th>Administration</th>\n      <th>Marketing Spend</th>\n      <th>State</th>\n      <th>Profit</th>\n    </tr>\n  </thead>\n  <tbody>\n    <tr>\n      <th>0</th>\n      <td>165349.20</td>\n      <td>136897.80</td>\n      <td>471784.10</td>\n      <td>New York</td>\n      <td>192261.83</td>\n    </tr>\n    <tr>\n      <th>1</th>\n      <td>162597.70</td>\n      <td>151377.59</td>\n      <td>443898.53</td>\n      <td>California</td>\n      <td>191792.06</td>\n    </tr>\n    <tr>\n      <th>2</th>\n      <td>153441.51</td>\n      <td>101145.55</td>\n      <td>407934.54</td>\n      <td>Florida</td>\n      <td>191050.39</td>\n    </tr>\n    <tr>\n      <th>3</th>\n      <td>144372.41</td>\n      <td>118671.85</td>\n      <td>383199.62</td>\n      <td>New York</td>\n      <td>182901.99</td>\n    </tr>\n    <tr>\n      <th>4</th>\n      <td>142107.34</td>\n      <td>91391.77</td>\n      <td>366168.42</td>\n      <td>Florida</td>\n      <td>166187.94</td>\n    </tr>\n  </tbody>\n</table>\n</div>"
          },
          "metadata": {}
        }
      ]
    },
    {
      "cell_type": "code",
      "source": [
        "data.describe()"
      ],
      "metadata": {
        "trusted": true,
        "id": "UNeooKG-xzAw",
        "outputId": "db89f7ad-d4a6-4aa4-a797-84c996e91f99"
      },
      "execution_count": null,
      "outputs": [
        {
          "execution_count": 5,
          "output_type": "execute_result",
          "data": {
            "text/plain": "           R&D Spend  Administration  Marketing Spend         Profit\ncount      50.000000       50.000000        50.000000      50.000000\nmean    73721.615600   121344.639600    211025.097800  112012.639200\nstd     45902.256482    28017.802755    122290.310726   40306.180338\nmin         0.000000    51283.140000         0.000000   14681.400000\n25%     39936.370000   103730.875000    129300.132500   90138.902500\n50%     73051.080000   122699.795000    212716.240000  107978.190000\n75%    101602.800000   144842.180000    299469.085000  139765.977500\nmax    165349.200000   182645.560000    471784.100000  192261.830000",
            "text/html": "<div>\n<style scoped>\n    .dataframe tbody tr th:only-of-type {\n        vertical-align: middle;\n    }\n\n    .dataframe tbody tr th {\n        vertical-align: top;\n    }\n\n    .dataframe thead th {\n        text-align: right;\n    }\n</style>\n<table border=\"1\" class=\"dataframe\">\n  <thead>\n    <tr style=\"text-align: right;\">\n      <th></th>\n      <th>R&amp;D Spend</th>\n      <th>Administration</th>\n      <th>Marketing Spend</th>\n      <th>Profit</th>\n    </tr>\n  </thead>\n  <tbody>\n    <tr>\n      <th>count</th>\n      <td>50.000000</td>\n      <td>50.000000</td>\n      <td>50.000000</td>\n      <td>50.000000</td>\n    </tr>\n    <tr>\n      <th>mean</th>\n      <td>73721.615600</td>\n      <td>121344.639600</td>\n      <td>211025.097800</td>\n      <td>112012.639200</td>\n    </tr>\n    <tr>\n      <th>std</th>\n      <td>45902.256482</td>\n      <td>28017.802755</td>\n      <td>122290.310726</td>\n      <td>40306.180338</td>\n    </tr>\n    <tr>\n      <th>min</th>\n      <td>0.000000</td>\n      <td>51283.140000</td>\n      <td>0.000000</td>\n      <td>14681.400000</td>\n    </tr>\n    <tr>\n      <th>25%</th>\n      <td>39936.370000</td>\n      <td>103730.875000</td>\n      <td>129300.132500</td>\n      <td>90138.902500</td>\n    </tr>\n    <tr>\n      <th>50%</th>\n      <td>73051.080000</td>\n      <td>122699.795000</td>\n      <td>212716.240000</td>\n      <td>107978.190000</td>\n    </tr>\n    <tr>\n      <th>75%</th>\n      <td>101602.800000</td>\n      <td>144842.180000</td>\n      <td>299469.085000</td>\n      <td>139765.977500</td>\n    </tr>\n    <tr>\n      <th>max</th>\n      <td>165349.200000</td>\n      <td>182645.560000</td>\n      <td>471784.100000</td>\n      <td>192261.830000</td>\n    </tr>\n  </tbody>\n</table>\n</div>"
          },
          "metadata": {}
        }
      ]
    },
    {
      "cell_type": "code",
      "source": [
        "\n",
        "# Create a LabelEncoder object\n",
        "le = LabelEncoder()\n",
        "\n",
        "# Encode the values in the 4th column of X using the LabelEncoder\n",
        "X[:, 3] = le.fit_transform(X[:, 3])\n",
        "# This line of code selects the 4th column of X and applies the fit_transform() method of the LabelEncoder to it\n",
        "# The fit_transform() method encodes the values in the selected column and replaces them with the encoded values\n",
        "# The encoded values are then assigned back to the 4th column of X\n",
        "\n",
        "# Create a OneHotEncoder object with the categorical feature index specified as [3]\n",
        "ohe = OneHotEncoder(categorical_features=[3])\n",
        "# This line of code creates a OneHotEncoder object and specifies that the feature at index 3 (the 4th column) is a categorical feature\n",
        "\n",
        "# Apply One-Hot Encoding to X\n",
        "X = ohe.fit_transform(X).toarray()\n",
        "# This line of code applies One-Hot Encoding to the entire X array using the fit_transform() method of the OneHotEncoder\n",
        "# The fit_transform() method transforms the categorical feature at index 3 into multiple binary features\n",
        "# The resulting encoded features are converted to a NumPy array using the toarray() method and assigned back to X"
      ],
      "metadata": {
        "trusted": true,
        "id": "m4HFJDXyxzAz",
        "outputId": "c65f7545-bf49-4170-b237-65b24c5e1b7e"
      },
      "execution_count": null,
      "outputs": [
        {
          "name": "stderr",
          "text": "/srv/conda/envs/notebook/lib/python3.7/site-packages/sklearn/preprocessing/_encoders.py:415: FutureWarning: The handling of integer data will change in version 0.22. Currently, the categories are determined based on the range [0, max(values)], while in the future they will be determined based on the unique values.\nIf you want the future behaviour and silence this warning, you can specify \"categories='auto'\".\nIn case you used a LabelEncoder before this OneHotEncoder to convert the categories to integers, then you can now use the OneHotEncoder directly.\n  warnings.warn(msg, FutureWarning)\n/srv/conda/envs/notebook/lib/python3.7/site-packages/sklearn/preprocessing/_encoders.py:451: DeprecationWarning: The 'categorical_features' keyword is deprecated in version 0.20 and will be removed in 0.22. You can use the ColumnTransformer instead.\n  \"use the ColumnTransformer instead.\", DeprecationWarning)\n",
          "output_type": "stream"
        }
      ]
    },
    {
      "cell_type": "code",
      "source": [
        "X = X[: , 1:]"
      ],
      "metadata": {
        "trusted": true,
        "id": "g5LJQcWlxzA1"
      },
      "execution_count": null,
      "outputs": []
    },
    {
      "cell_type": "code",
      "source": [
        "X_train, X_test, Y_train, Y_test = train_test_split(X, Y, test_size=0.2, random_state=0)"
      ],
      "metadata": {
        "trusted": true,
        "id": "wMe3eIZxxzA3"
      },
      "execution_count": null,
      "outputs": []
    },
    {
      "cell_type": "code",
      "source": [
        "reg = LinearRegression()\n",
        "reg.fit(X_train, Y_train)"
      ],
      "metadata": {
        "trusted": true,
        "id": "6VCeZfyIxzA4",
        "outputId": "1fb3be5c-e8e9-4e38-9d3b-302f6a8af62d"
      },
      "execution_count": null,
      "outputs": [
        {
          "execution_count": 9,
          "output_type": "execute_result",
          "data": {
            "text/plain": "LinearRegression(copy_X=True, fit_intercept=True, n_jobs=None, normalize=False)"
          },
          "metadata": {}
        }
      ]
    },
    {
      "cell_type": "code",
      "source": [
        "y_pred = reg.predict(X_test)"
      ],
      "metadata": {
        "trusted": true,
        "id": "ZA3GYWgfxzA7"
      },
      "execution_count": null,
      "outputs": []
    },
    {
      "cell_type": "code",
      "source": [
        "print(y_pred)"
      ],
      "metadata": {
        "trusted": true,
        "id": "v4ceIiCExzA8",
        "outputId": "1a053607-75f8-4239-9536-b0fedea83f26"
      },
      "execution_count": null,
      "outputs": [
        {
          "name": "stdout",
          "text": "[103015.20159796 132582.27760816 132447.73845175  71976.09851259\n 178537.48221054 116161.24230163  67851.69209676  98791.73374688\n 113969.43533012 167921.0656955 ]\n",
          "output_type": "stream"
        }
      ]
    }
  ]
}